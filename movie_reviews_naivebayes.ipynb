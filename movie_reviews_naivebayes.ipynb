{
 "cells": [
  {
   "cell_type": "markdown",
   "id": "b6920cf1",
   "metadata": {},
   "source": [
    "### Movie Reviews Sentiment Analysis - Naive Bayes\n",
    "#### ✅ This notebook trains a Naive Bayes model on NLTK Movie Reviews\n",
    "- Uses stopword removal\n",
    "- Uses word presence as binary features\n",
    "- Shows most informative features for sentiment\n",
    "- Prints test accuracy\n",
    "\n",
    "#### 📌 Step 1: Imports and Setup"
   ]
  },
  {
   "cell_type": "code",
   "execution_count": null,
   "id": "b7fc8faf",
   "metadata": {},
   "outputs": [],
   "source": [
    "\n",
    "import nltk\n",
    "from nltk.corpus import movie_reviews, stopwords\n",
    "from nltk.classify import NaiveBayesClassifier\n",
    "from nltk.classify.util import accuracy\n",
    "\n",
    "nltk.download('movie_reviews')\n",
    "nltk.download('stopwords')\n"
   ]
  },
  {
   "cell_type": "markdown",
   "id": "ba36c94b",
   "metadata": {},
   "source": [
    "#### 📌 Step 2: Define Feature Extractor"
   ]
  },
  {
   "cell_type": "code",
   "execution_count": null,
   "id": "db58bdd7",
   "metadata": {},
   "outputs": [],
   "source": [
    "stop_words = set(stopwords.words('english'))\n",
    "\n",
    "# Feature extractor: returns a dict for each word\n",
    "# NaiveBayesClassifier expects a dict {feature_name: True}\n",
    "def extract_features(words):\n",
    "    return {w.lower(): True for w in words if w.isalpha() and w.lower() not in stop_words}"
   ]
  },
  {
   "cell_type": "markdown",
   "id": "902b5889",
   "metadata": {},
   "source": [
    "#### 📌 Step 3: Prepare Training and Test Data"
   ]
  },
  {
   "cell_type": "code",
   "execution_count": null,
   "id": "bf092a12",
   "metadata": {},
   "outputs": [],
   "source": [
    "# Split files\n",
    "pos_files = movie_reviews.fileids('pos')\n",
    "neg_files = movie_reviews.fileids('neg')\n",
    "\n",
    "# 80% train, 20% test\n",
    "train_pos = pos_files[:800]\n",
    "test_pos = pos_files[800:]\n",
    "train_neg = neg_files[:800]\n",
    "test_neg = neg_files[800:]\n",
    "\n",
    "# Build training set with (features, label) tuples\n",
    "train_set = []\n",
    "for fileid in train_pos:\n",
    "    words = movie_reviews.words(fileid)\n",
    "    train_set.append((extract_features(words), 'pos'))\n",
    "for fileid in train_neg:\n",
    "    words = movie_reviews.words(fileid)\n",
    "    train_set.append((extract_features(words), 'neg'))\n",
    "\n",
    "# Build test set\n",
    "test_set = []\n",
    "for fileid in test_pos:\n",
    "    words = movie_reviews.words(fileid)\n",
    "    test_set.append((extract_features(words), 'pos'))\n",
    "for fileid in test_neg:\n",
    "    words = movie_reviews.words(fileid)\n",
    "    test_set.append((extract_features(words), 'neg'))"
   ]
  },
  {
   "cell_type": "markdown",
   "id": "6897d833",
   "metadata": {},
   "source": [
    "#### 📌 Step 4: Train Naive Bayes Classifier"
   ]
  },
  {
   "cell_type": "code",
   "execution_count": null,
   "id": "f015559d",
   "metadata": {},
   "outputs": [],
   "source": [
    "# Train Naive Bayes Classifier\n",
    "classifier = NaiveBayesClassifier.train(train_set)"
   ]
  },
  {
   "cell_type": "markdown",
   "id": "ccfe4385",
   "metadata": {},
   "source": [
    "#### 📌 Step 5: Evaluate the Classifier"
   ]
  },
  {
   "cell_type": "code",
   "execution_count": null,
   "id": "b95f7a02",
   "metadata": {},
   "outputs": [],
   "source": [
    "# Evaluate on test data\n",
    "acc = accuracy(classifier, test_set)\n",
    "print(f\"Test Accuracy: {acc:.4f}\")\n",
    "\n",
    "# Show most informative words\n",
    "classifier.show_most_informative_features(10)"
   ]
  }
 ],
 "metadata": {
  "kernelspec": {
   "display_name": "nlp",
   "language": "python",
   "name": "python3"
  },
  "language_info": {
   "codemirror_mode": {
    "name": "ipython",
    "version": 3
   },
   "file_extension": ".py",
   "mimetype": "text/x-python",
   "name": "python",
   "nbconvert_exporter": "python",
   "pygments_lexer": "ipython3",
   "version": "3.13.5"
  }
 },
 "nbformat": 4,
 "nbformat_minor": 5
}
