{
 "cells": [
  {
   "cell_type": "code",
   "execution_count": null,
   "id": "a63ead6f",
   "metadata": {},
   "outputs": [],
   "source": [
    "# 📌 Step 1: Imports\n",
    "from sklearn.feature_extraction.text import TfidfVectorizer\n",
    "from sklearn.naive_bayes import MultinomialNB\n",
    "from sklearn.metrics import accuracy_score\n",
    "from nltk.corpus import movie_reviews, stopwords\n",
    "from nltk import download\n",
    "import numpy as np\n",
    "\n",
    "# Download NLTK resources if needed\n",
    "download('movie_reviews')\n",
    "download('stopwords')"
   ]
  },
  {
   "cell_type": "code",
   "execution_count": null,
   "id": "45115b33",
   "metadata": {},
   "outputs": [],
   "source": [
    "# 📌 Step 2: Prepare Data\n",
    "\n",
    "stop_words = set(stopwords.words('english'))\n",
    "\n",
    "# Function to clean and join words into a single string\n",
    "def get_clean_text(fileids):\n",
    "    docs = []\n",
    "    for fileid in fileids:\n",
    "        words = [w.lower() for w in movie_reviews.words(fileid) if w.isalpha() and w.lower() not in stop_words]\n",
    "        docs.append(\" \".join(words))\n",
    "    return docs\n",
    "\n",
    "# Train/Test split (same split as before)\n",
    "pos_files = movie_reviews.fileids('pos')\n",
    "neg_files = movie_reviews.fileids('neg')\n",
    "\n",
    "train_pos = pos_files[:800]\n",
    "test_pos = pos_files[800:]\n",
    "train_neg = neg_files[:800]\n",
    "test_neg = neg_files[800:]\n",
    "\n",
    "train_files = train_pos + train_neg\n",
    "test_files = test_pos + test_neg\n",
    "\n",
    "train_labels = np.append(np.ones(len(train_pos)), np.zeros(len(train_neg)))\n",
    "test_labels = np.append(np.ones(len(test_pos)), np.zeros(len(test_neg)))\n",
    "\n",
    "# Clean text data\n",
    "train_texts = get_clean_text(train_files)\n",
    "test_texts = get_clean_text(test_files)\n"
   ]
  },
  {
   "cell_type": "code",
   "execution_count": null,
   "id": "b28cc57f",
   "metadata": {},
   "outputs": [],
   "source": [
    "# 📌 Step 3: Vectorize using TF-IDF\n",
    "\n",
    "vectorizer = TfidfVectorizer()\n",
    "X_train = vectorizer.fit_transform(train_texts)\n",
    "X_test  = vectorizer.transform(test_texts)\n",
    "\n",
    "print(f\"TF-IDF matrix shape: {X_train.shape}\")\n"
   ]
  },
  {
   "cell_type": "code",
   "execution_count": null,
   "id": "6868608c",
   "metadata": {},
   "outputs": [],
   "source": [
    "# 📌 Step 4: Train Naive Bayes with TF-IDF features\n",
    "\n",
    "model = MultinomialNB()\n",
    "model.fit(X_train, train_labels)\n",
    "\n",
    "preds = model.predict(X_test)\n",
    "acc = accuracy_score(test_labels, preds)\n",
    "\n",
    "print(f\"TF-IDF Naive Bayes Accuracy: {acc:.4f}\")\n"
   ]
  },
  {
   "cell_type": "code",
   "execution_count": null,
   "id": "b1f7d472",
   "metadata": {},
   "outputs": [],
   "source": [
    "# 📌 TF-IDF Vectorizer with unigrams + bigrams\n",
    "# Optional step to include bigrams in the TF-IDF vectorization but with reducing the minimum document frequency to 2\n",
    "\n",
    "vectorizer = TfidfVectorizer(ngram_range=(1,2), min_df=2)\n",
    "\n",
    "# Fit on train, transform both\n",
    "X_train = vectorizer.fit_transform(train_texts)\n",
    "X_test  = vectorizer.transform(test_texts)\n",
    "\n",
    "print(f\"TF-IDF matrix shape (with bigrams): {X_train.shape}\")\n",
    "\n",
    "# Train Naive Bayes\n",
    "model = MultinomialNB()\n",
    "model.fit(X_train, train_labels)\n",
    "\n",
    "preds = model.predict(X_test)\n",
    "acc = accuracy_score(test_labels, preds)\n",
    "\n",
    "print(f\"TF-IDF + Bigrams Naive Bayes Accuracy: {acc:.4f}\")\n"
   ]
  },
  {
   "cell_type": "code",
   "execution_count": null,
   "id": "ae001375",
   "metadata": {},
   "outputs": [],
   "source": [
    "# 📌 Train a Logistic Regression classifier with TF-IDF feature\n",
    "# This is an additional step to demonstrate the use of a different classifier.\n",
    "\n",
    "from sklearn.linear_model import LogisticRegression\n",
    "\n",
    "# 📌 Logistic Regression classifier\n",
    "clf = LogisticRegression(max_iter=1000)\n",
    "\n",
    "# Train it\n",
    "clf.fit(X_train, train_labels)\n",
    "\n",
    "# Predict on test data\n",
    "preds = clf.predict(X_test)\n",
    "\n",
    "# Compute accuracy\n",
    "acc = accuracy_score(test_labels, preds)\n",
    "\n",
    "print(f\"TF-IDF matrix shape (with bigrams): {X_train.shape}\")\n",
    "print(f\"TF-IDF + Bigrams Logistic Regression Accuracy: {acc:.4f}\")\n"
   ]
  }
 ],
 "metadata": {
  "kernelspec": {
   "display_name": "nlp",
   "language": "python",
   "name": "python3"
  },
  "language_info": {
   "codemirror_mode": {
    "name": "ipython",
    "version": 3
   },
   "file_extension": ".py",
   "mimetype": "text/x-python",
   "name": "python",
   "nbconvert_exporter": "python",
   "pygments_lexer": "ipython3",
   "version": "3.13.5"
  }
 },
 "nbformat": 4,
 "nbformat_minor": 5
}
